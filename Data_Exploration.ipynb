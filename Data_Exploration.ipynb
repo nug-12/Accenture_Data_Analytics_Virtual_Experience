{
  "nbformat": 4,
  "nbformat_minor": 0,
  "metadata": {
    "colab": {
      "name": "Data_Exploration.ipynb",
      "provenance": [],
      "authorship_tag": "ABX9TyPqbfj9hyjCAKJw63QEjSYq",
      "include_colab_link": true
    },
    "kernelspec": {
      "name": "python3",
      "display_name": "Python 3"
    },
    "language_info": {
      "name": "python"
    }
  },
  "cells": [
    {
      "cell_type": "markdown",
      "metadata": {
        "id": "view-in-github",
        "colab_type": "text"
      },
      "source": [
        "<a href=\"https://colab.research.google.com/github/nugi1209/Accenture_Data_Analytics_Virtual_Experience/blob/main/Data_Exploration.ipynb\" target=\"_parent\"><img src=\"https://colab.research.google.com/assets/colab-badge.svg\" alt=\"Open In Colab\"/></a>"
      ]
    },
    {
      "cell_type": "code",
      "execution_count": null,
      "metadata": {
        "id": "iYlb-2dpobI4"
      },
      "outputs": [],
      "source": [
        "import pandas as pd\n",
        "\n",
        "\n"
      ]
    }
  ]
}