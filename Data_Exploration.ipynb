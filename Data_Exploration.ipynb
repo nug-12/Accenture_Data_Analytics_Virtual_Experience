{
  "nbformat": 4,
  "nbformat_minor": 0,
  "metadata": {
    "colab": {
      "name": "Data_Exploration.ipynb",
      "provenance": [],
      "authorship_tag": "ABX9TyNQCcMT2FcJO5vlTOa9GBN3",
      "include_colab_link": true
    },
    "kernelspec": {
      "name": "python3",
      "display_name": "Python 3"
    },
    "language_info": {
      "name": "python"
    }
  },
  "cells": [
    {
      "cell_type": "markdown",
      "metadata": {
        "id": "view-in-github",
        "colab_type": "text"
      },
      "source": [
        "<a href=\"https://colab.research.google.com/github/nugi1209/Accenture_Data_Analytics_Virtual_Experience/blob/main/Data_Exploration.ipynb\" target=\"_parent\"><img src=\"https://colab.research.google.com/assets/colab-badge.svg\" alt=\"Open In Colab\"/></a>"
      ]
    },
    {
      "cell_type": "code",
      "execution_count": 1,
      "metadata": {
        "id": "iYlb-2dpobI4"
      },
      "outputs": [],
      "source": [
        "import pandas as pd\n",
        "\n",
        "\n"
      ]
    },
    {
      "cell_type": "code",
      "source": [
        "df = pd.read_csv(\"https://github.com/nugi1209/Accenture_Data_Analytics_Virtual_Experience/blob/main/Task1RevisedCsv.csv?raw=true\", delimiter = \";\")\n",
        "df.head()"
      ],
      "metadata": {
        "colab": {
          "base_uri": "https://localhost:8080/",
          "height": 206
        },
        "id": "kysbShOMo_87",
        "outputId": "8d0d1b59-9594-466f-83f7-c8b0ac5d1050"
      },
      "execution_count": 4,
      "outputs": [
        {
          "output_type": "execute_result",
          "data": {
            "text/html": [
              "<div>\n",
              "<style scoped>\n",
              "    .dataframe tbody tr th:only-of-type {\n",
              "        vertical-align: middle;\n",
              "    }\n",
              "\n",
              "    .dataframe tbody tr th {\n",
              "        vertical-align: top;\n",
              "    }\n",
              "\n",
              "    .dataframe thead th {\n",
              "        text-align: right;\n",
              "    }\n",
              "</style>\n",
              "<table border=\"1\" class=\"dataframe\">\n",
              "  <thead>\n",
              "    <tr style=\"text-align: right;\">\n",
              "      <th></th>\n",
              "      <th>content_id</th>\n",
              "      <th>reaction_type</th>\n",
              "      <th>datetime</th>\n",
              "      <th>sentiment</th>\n",
              "      <th>score</th>\n",
              "      <th>content_user_id</th>\n",
              "      <th>category</th>\n",
              "      <th>content_type</th>\n",
              "    </tr>\n",
              "  </thead>\n",
              "  <tbody>\n",
              "    <tr>\n",
              "      <th>0</th>\n",
              "      <td>97522e57-d9ab-4bd6-97bf-c24d952602d2</td>\n",
              "      <td>disgust</td>\n",
              "      <td>07/11/2020 09:43</td>\n",
              "      <td>negative</td>\n",
              "      <td>0</td>\n",
              "      <td>8d3cd87d-8a31-4935-9a4f-b319bfe05f31</td>\n",
              "      <td>studying</td>\n",
              "      <td>photo</td>\n",
              "    </tr>\n",
              "    <tr>\n",
              "      <th>1</th>\n",
              "      <td>97522e57-d9ab-4bd6-97bf-c24d952602d2</td>\n",
              "      <td>disgust</td>\n",
              "      <td>06/01/2021 19:13</td>\n",
              "      <td>negative</td>\n",
              "      <td>0</td>\n",
              "      <td>8d3cd87d-8a31-4935-9a4f-b319bfe05f31</td>\n",
              "      <td>studying</td>\n",
              "      <td>photo</td>\n",
              "    </tr>\n",
              "    <tr>\n",
              "      <th>2</th>\n",
              "      <td>97522e57-d9ab-4bd6-97bf-c24d952602d2</td>\n",
              "      <td>dislike</td>\n",
              "      <td>17/06/2021 12:22</td>\n",
              "      <td>negative</td>\n",
              "      <td>10</td>\n",
              "      <td>8d3cd87d-8a31-4935-9a4f-b319bfe05f31</td>\n",
              "      <td>studying</td>\n",
              "      <td>photo</td>\n",
              "    </tr>\n",
              "    <tr>\n",
              "      <th>3</th>\n",
              "      <td>97522e57-d9ab-4bd6-97bf-c24d952602d2</td>\n",
              "      <td>scared</td>\n",
              "      <td>18/04/2021 05:13</td>\n",
              "      <td>negative</td>\n",
              "      <td>15</td>\n",
              "      <td>8d3cd87d-8a31-4935-9a4f-b319bfe05f31</td>\n",
              "      <td>studying</td>\n",
              "      <td>photo</td>\n",
              "    </tr>\n",
              "    <tr>\n",
              "      <th>4</th>\n",
              "      <td>97522e57-d9ab-4bd6-97bf-c24d952602d2</td>\n",
              "      <td>scared</td>\n",
              "      <td>02/11/2020 06:28</td>\n",
              "      <td>negative</td>\n",
              "      <td>15</td>\n",
              "      <td>8d3cd87d-8a31-4935-9a4f-b319bfe05f31</td>\n",
              "      <td>studying</td>\n",
              "      <td>photo</td>\n",
              "    </tr>\n",
              "  </tbody>\n",
              "</table>\n",
              "</div>"
            ],
            "text/plain": [
              "                             content_id reaction_type  ...  category content_type\n",
              "0  97522e57-d9ab-4bd6-97bf-c24d952602d2       disgust  ...  studying        photo\n",
              "1  97522e57-d9ab-4bd6-97bf-c24d952602d2       disgust  ...  studying        photo\n",
              "2  97522e57-d9ab-4bd6-97bf-c24d952602d2       dislike  ...  studying        photo\n",
              "3  97522e57-d9ab-4bd6-97bf-c24d952602d2        scared  ...  studying        photo\n",
              "4  97522e57-d9ab-4bd6-97bf-c24d952602d2        scared  ...  studying        photo\n",
              "\n",
              "[5 rows x 8 columns]"
            ]
          },
          "metadata": {},
          "execution_count": 4
        }
      ]
    }
  ]
}